{
 "cells": [
  {
   "cell_type": "code",
   "execution_count": 8,
   "id": "9705ffc4",
   "metadata": {},
   "outputs": [],
   "source": [
    "# -*- coding: utf-8 -*-\n",
    "# 使用K-means对图像进行聚类，显示分割标识的可视化\n",
    "import numpy as np\n",
    "import PIL.Image as image\n",
    "from sklearn.cluster import KMeans\n",
    "from sklearn import preprocessing"
   ]
  },
  {
   "cell_type": "code",
   "execution_count": 9,
   "id": "567db7bf",
   "metadata": {},
   "outputs": [],
   "source": [
    "# 加载图像，并对数据进行规范化\n",
    "def load_data(filePath):\n",
    "    # 读文件\n",
    "    with open(filePath, 'rb') as f:\n",
    "        data = []\n",
    "        # 得到图像的像素值\n",
    "        img = image.open(f)\n",
    "        # 得到图像尺寸\n",
    "        width, height = img.size\n",
    "        for x in range(width):\n",
    "            for y in range(height):\n",
    "                # 得到点(x, y)的三个通道值\n",
    "                c1, c2, c3 = img.getpixel((x, y))\n",
    "                data.append([c1, c2, c3])\n",
    "        \n",
    "    # 采用Min-Max规范化\n",
    "    mm = preprocessing.MinMaxScaler()\n",
    "    data = mm.fit_transform(data)\n",
    "    \n",
    "    # 将数据转换为numpy array格式，而不是matrix\n",
    "    return np.array(data), width, height"
   ]
  },
  {
   "cell_type": "code",
   "execution_count": 10,
   "id": "8bb585be",
   "metadata": {},
   "outputs": [],
   "source": [
    "# 加载图像，得到规范化的结果img，以及图像尺寸\n",
    "img, width, height = load_data('./weixin.jpg')"
   ]
  },
  {
   "cell_type": "code",
   "execution_count": 11,
   "id": "a430cfee",
   "metadata": {},
   "outputs": [
    {
     "name": "stderr",
     "output_type": "stream",
     "text": [
      "D:\\anaconda\\envs\\pytorch\\lib\\site-packages\\sklearn\\cluster\\_kmeans.py:1416: FutureWarning: The default value of `n_init` will change from 10 to 'auto' in 1.4. Set the value of `n_init` explicitly to suppress the warning\n",
      "  super()._check_params_vs_input(X, default_n_init=10)\n"
     ]
    }
   ],
   "source": [
    "# 用K-Means对图像进行2聚类\n",
    "kmeans = KMeans(n_clusters=2)\n",
    "kmeans.fit(img)\n",
    "label = kmeans.predict(img)"
   ]
  },
  {
   "cell_type": "code",
   "execution_count": 12,
   "id": "43713724",
   "metadata": {},
   "outputs": [],
   "source": [
    "# 将图像聚类结果，转化成图像尺寸的矩阵\n",
    "label = label.reshape([width, height])"
   ]
  },
  {
   "cell_type": "code",
   "execution_count": 13,
   "id": "59188888",
   "metadata": {},
   "outputs": [],
   "source": [
    "# 创建个新图像pic_mark，用来保存图像聚类的结果，并设置不同的灰度值\n",
    "pic_mark = image.new(\"L\", (width, height))\n",
    "for x in range(width):\n",
    "    for y in range(height):\n",
    "        # 根据类别设置图像灰度, 类别0 灰度值为255， 类别1 灰度值为127\n",
    "        pic_mark.putpixel((x, y), int(256 / (label[x][y] + 1)) - 1)"
   ]
  },
  {
   "cell_type": "code",
   "execution_count": 14,
   "id": "b66c067c",
   "metadata": {},
   "outputs": [],
   "source": [
    "pic_mark.save(\"weixin_mark.jpg\", \"JPEG\")"
   ]
  }
 ],
 "metadata": {
  "kernelspec": {
   "display_name": "pytorch",
   "language": "python",
   "name": "pytorch"
  },
  "language_info": {
   "codemirror_mode": {
    "name": "ipython",
    "version": 3
   },
   "file_extension": ".py",
   "mimetype": "text/x-python",
   "name": "python",
   "nbconvert_exporter": "python",
   "pygments_lexer": "ipython3",
   "version": "3.9.15"
  }
 },
 "nbformat": 4,
 "nbformat_minor": 5
}
