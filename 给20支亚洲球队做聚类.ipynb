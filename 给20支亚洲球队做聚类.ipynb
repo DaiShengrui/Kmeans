{
 "cells": [
  {
   "cell_type": "code",
   "execution_count": 1,
   "id": "2227f28a",
   "metadata": {},
   "outputs": [],
   "source": [
    "# coding: utf-8\n",
    "from sklearn.cluster import KMeans\n",
    "from sklearn import preprocessing\n",
    "import pandas as pd\n",
    "import numpy as np"
   ]
  },
  {
   "cell_type": "code",
   "execution_count": 2,
   "id": "40a1da3f",
   "metadata": {},
   "outputs": [],
   "source": [
    "# 输入数据\n",
    "data = pd.read_csv('data.csv', encoding='gbk')\n",
    "train_x = data[[\"2019年国际排名\",\"2018世界杯\",\"2015亚洲杯\"]]\n",
    "df = pd.DataFrame(train_x)\n",
    "kmeans = KMeans(n_clusters=3)"
   ]
  },
  {
   "cell_type": "code",
   "execution_count": 3,
   "id": "0e964deb",
   "metadata": {},
   "outputs": [],
   "source": [
    "# 规范化到[0,1]空间\n",
    "min_max_scaler=preprocessing.MinMaxScaler()\n",
    "train_x=min_max_scaler.fit_transform(train_x)"
   ]
  },
  {
   "cell_type": "code",
   "execution_count": 4,
   "id": "b19b71ed",
   "metadata": {},
   "outputs": [
    {
     "name": "stderr",
     "output_type": "stream",
     "text": [
      "D:\\anaconda\\envs\\pytorch\\lib\\site-packages\\sklearn\\cluster\\_kmeans.py:1416: FutureWarning: The default value of `n_init` will change from 10 to 'auto' in 1.4. Set the value of `n_init` explicitly to suppress the warning\n",
      "  super()._check_params_vs_input(X, default_n_init=10)\n",
      "D:\\anaconda\\envs\\pytorch\\lib\\site-packages\\sklearn\\cluster\\_kmeans.py:1440: UserWarning: KMeans is known to have a memory leak on Windows with MKL, when there are less chunks than available threads. You can avoid it by setting the environment variable OMP_NUM_THREADS=1.\n",
      "  warnings.warn(\n"
     ]
    }
   ],
   "source": [
    "# kmeans算法\n",
    "kmeans.fit(train_x)\n",
    "predict_y = kmeans.predict(train_x)"
   ]
  },
  {
   "cell_type": "code",
   "execution_count": 5,
   "id": "16dd1c66",
   "metadata": {},
   "outputs": [
    {
     "name": "stdout",
     "output_type": "stream",
     "text": [
      "        国家  2019年国际排名  2018世界杯  2015亚洲杯  聚类\n",
      "0       中国         73       40        7   0\n",
      "1       日本         60       15        5   2\n",
      "2       韩国         61       19        2   2\n",
      "3       伊朗         34       18        6   2\n",
      "4       沙特         67       26       10   2\n",
      "5      伊拉克         91       40        4   0\n",
      "6      卡塔尔        101       40       13   1\n",
      "7      阿联酋         81       40        6   0\n",
      "8   乌兹别克斯坦         88       40        8   0\n",
      "9       泰国        122       40       17   1\n",
      "10      越南        102       50       17   1\n",
      "11      阿曼         87       50       12   1\n",
      "12      巴林        116       50       11   1\n",
      "13      朝鲜        110       50       14   1\n",
      "14      印尼        164       50       17   1\n",
      "15      澳洲         40       30        1   2\n",
      "16     叙利亚         76       40       17   1\n",
      "17      约旦        118       50        9   1\n",
      "18     科威特        160       50       15   1\n",
      "19    巴勒斯坦         96       50       16   1\n"
     ]
    }
   ],
   "source": [
    "# 合并聚类结果，插入到原数据中\n",
    "result = pd.concat((data,pd.DataFrame(predict_y)),axis=1)\n",
    "result.rename({0:u'聚类'},axis=1,inplace=True)\n",
    "print(result)"
   ]
  },
  {
   "cell_type": "code",
   "execution_count": null,
   "id": "268efb45",
   "metadata": {},
   "outputs": [],
   "source": []
  }
 ],
 "metadata": {
  "kernelspec": {
   "display_name": "pytorch",
   "language": "python",
   "name": "pytorch"
  },
  "language_info": {
   "codemirror_mode": {
    "name": "ipython",
    "version": 3
   },
   "file_extension": ".py",
   "mimetype": "text/x-python",
   "name": "python",
   "nbconvert_exporter": "python",
   "pygments_lexer": "ipython3",
   "version": "3.9.15"
  }
 },
 "nbformat": 4,
 "nbformat_minor": 5
}
